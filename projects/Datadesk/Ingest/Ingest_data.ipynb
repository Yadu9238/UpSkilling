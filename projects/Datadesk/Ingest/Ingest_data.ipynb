{
 "cells": [
  {
   "cell_type": "code",
   "execution_count": 0,
   "metadata": {
    "application/vnd.databricks.v1+cell": {
     "cellMetadata": {
      "byteLimit": 2048000,
      "rowLimit": 10000
     },
     "inputWidgets": {},
     "nuid": "4f58cadc-cb8d-43c3-bd2a-6f05bfa479c4",
     "showTitle": false,
     "tableResultSettingsMap": {},
     "title": ""
    }
   },
   "outputs": [],
   "source": [
    "import json\n",
    "from pyspark.sql import functions as f"
   ]
  },
  {
   "cell_type": "code",
   "execution_count": 0,
   "metadata": {
    "application/vnd.databricks.v1+cell": {
     "cellMetadata": {
      "byteLimit": 2048000,
      "rowLimit": 10000
     },
     "inputWidgets": {},
     "nuid": "9e8123da-c1c8-429b-a6de-c9405ca0d229",
     "showTitle": false,
     "tableResultSettingsMap": {},
     "title": ""
    }
   },
   "outputs": [],
   "source": [
    "api_key = dbutils.get()\n"
   ]
  },
  {
   "cell_type": "code",
   "execution_count": 0,
   "metadata": {
    "application/vnd.databricks.v1+cell": {
     "cellMetadata": {
      "byteLimit": 2048000,
      "rowLimit": 10000
     },
     "inputWidgets": {},
     "nuid": "414ead1d-115d-4e70-8421-976f92a2a07d",
     "showTitle": false,
     "tableResultSettingsMap": {},
     "title": ""
    }
   },
   "outputs": [],
   "source": [
    "# Widgets for job parametrization\n",
    "spark.conf.set(\"spark.sql.session.timeZone\", \"UTC\")\n",
    "\n",
    "dbx = dbutils.widgets\n",
    "\n",
    "dbx.text(\"csv_path\", \"/FileStore/tables/sales.csv\")\n",
    "dbx.text(\"csv_table\", \"sales_data_bronze\")\n",
    "\n",
    "dbx.text(\"repo_owner\", \"Yadu9238\")\n",
    "dbx.text(\"repo_name\", \"DataDesk\")\n",
    "\n",
    "print(\"Config Loaded ✅\")"
   ]
  },
  {
   "cell_type": "code",
   "execution_count": 0,
   "metadata": {
    "application/vnd.databricks.v1+cell": {
     "cellMetadata": {
      "byteLimit": 2048000,
      "rowLimit": 10000
     },
     "inputWidgets": {},
     "nuid": "86fbb77a-b89e-4d7f-b508-e33ba032e823",
     "showTitle": false,
     "tableResultSettingsMap": {},
     "title": ""
    }
   },
   "outputs": [],
   "source": [
    "\n",
    "\n",
    "import requests\n",
    "import pandas as pd\n",
    "api_key = dbutils.secrets.get(scope=\"api_key\", key=\"stock\")\n",
    "headers = {\"X-Api-Key\": f\"{api_key}\"}\n",
    "url = f\"https://stock.indianapi.in/NSE_most_active\"\n",
    "\n",
    "resp = requests.get(url, headers=headers, timeout=10)\n",
    "resp.raise_for_status()\n",
    "data = resp.json()\n",
    "df = pd.json_normalize(data)\n",
    "# Flatten JSON → Spark DF\n",
    "api_df = spark.createDataFrame(df)\n",
    "(\n",
    "    api_df\n",
    "    .write\n",
    "    .mode(\"overwrite\")\n",
    "    .format(\"delta\")\n",
    "    .option(\"mergeSchema\", \"true\")\n",
    "    .saveAsTable(\"nse_table\")\n",
    ")\n",
    "print(\"NSE Active Stock data created✅\")\n",
    "\n",
    "\n"
   ]
  },
  {
   "cell_type": "code",
   "execution_count": 0,
   "metadata": {
    "application/vnd.databricks.v1+cell": {
     "cellMetadata": {
      "byteLimit": 2048000,
      "rowLimit": 10000
     },
     "inputWidgets": {},
     "nuid": "e4a1e9ae-5ced-40a0-9155-85cfc9c29301",
     "showTitle": false,
     "tableResultSettingsMap": {
      "0": {
       "dataGridStateBlob": "{\"version\":1,\"tableState\":{\"columnPinning\":{\"left\":[\"#row_number#\"],\"right\":[]},\"columnSizing\":{},\"columnVisibility\":{}},\"settings\":{\"columns\":{}},\"syncTimestamp\":1752595818531}",
       "filterBlob": null,
       "queryPlanFiltersBlob": null,
       "tableResultIndex": 0
      }
     },
     "title": ""
    }
   },
   "outputs": [],
   "source": [
    "display(api_df)"
   ]
  },
  {
   "cell_type": "code",
   "execution_count": 0,
   "metadata": {
    "application/vnd.databricks.v1+cell": {
     "cellMetadata": {},
     "inputWidgets": {},
     "nuid": "2da37a70-1fb1-44fc-af42-e08979861a28",
     "showTitle": false,
     "tableResultSettingsMap": {},
     "title": ""
    }
   },
   "outputs": [],
   "source": []
  }
 ],
 "metadata": {
  "application/vnd.databricks.v1+notebook": {
   "computePreferences": null,
   "dashboards": [],
   "environmentMetadata": {
    "base_environment": "",
    "environment_version": "2"
   },
   "inputWidgetPreferences": null,
   "language": "python",
   "notebookMetadata": {
    "pythonIndentUnit": 4
   },
   "notebookName": "Ingest_data",
   "widgets": {
    "csv_path": {
     "currentValue": "/FileStore/tables/sales.csv",
     "nuid": "632084e7-51f5-4d79-ae09-4cb791d88b9b",
     "typedWidgetInfo": {
      "autoCreated": false,
      "defaultValue": "/FileStore/tables/sales.csv",
      "label": null,
      "name": "csv_path",
      "options": {
       "widgetDisplayType": "Text",
       "validationRegex": null
      },
      "parameterDataType": "String"
     },
     "widgetInfo": {
      "widgetType": "text",
      "defaultValue": "/FileStore/tables/sales.csv",
      "label": null,
      "name": "csv_path",
      "options": {
       "widgetType": "text",
       "autoCreated": false,
       "validationRegex": null
      }
     }
    },
    "csv_table": {
     "currentValue": "sales_data_bronze",
     "nuid": "02a2aa8c-24dc-4b60-aaae-c2ad336f8a0f",
     "typedWidgetInfo": {
      "autoCreated": false,
      "defaultValue": "sales_data_bronze",
      "label": null,
      "name": "csv_table",
      "options": {
       "widgetDisplayType": "Text",
       "validationRegex": null
      },
      "parameterDataType": "String"
     },
     "widgetInfo": {
      "widgetType": "text",
      "defaultValue": "sales_data_bronze",
      "label": null,
      "name": "csv_table",
      "options": {
       "widgetType": "text",
       "autoCreated": false,
       "validationRegex": null
      }
     }
    },
    "repo_name": {
     "currentValue": "DataDesk",
     "nuid": "b0c9f0fc-051b-4d65-a4ca-da067b51faeb",
     "typedWidgetInfo": {
      "autoCreated": false,
      "defaultValue": "DataDesk",
      "label": null,
      "name": "repo_name",
      "options": {
       "widgetDisplayType": "Text",
       "validationRegex": null
      },
      "parameterDataType": "String"
     },
     "widgetInfo": {
      "widgetType": "text",
      "defaultValue": "DataDesk",
      "label": null,
      "name": "repo_name",
      "options": {
       "widgetType": "text",
       "autoCreated": false,
       "validationRegex": null
      }
     }
    },
    "repo_owner": {
     "currentValue": "Yadu9238",
     "nuid": "3d044d2f-6482-497a-9ec6-24c7f92351c7",
     "typedWidgetInfo": {
      "autoCreated": false,
      "defaultValue": "Yadu9238",
      "label": null,
      "name": "repo_owner",
      "options": {
       "widgetDisplayType": "Text",
       "validationRegex": null
      },
      "parameterDataType": "String"
     },
     "widgetInfo": {
      "widgetType": "text",
      "defaultValue": "Yadu9238",
      "label": null,
      "name": "repo_owner",
      "options": {
       "widgetType": "text",
       "autoCreated": false,
       "validationRegex": null
      }
     }
    }
   }
  },
  "language_info": {
   "name": "python"
  }
 },
 "nbformat": 4,
 "nbformat_minor": 0
}
